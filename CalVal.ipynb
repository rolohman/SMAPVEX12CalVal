{
 "cells": [
  {
   "cell_type": "markdown",
   "metadata": {
    "tags": []
   },
   "source": [
    "### Initial imports"
   ]
  },
  {
   "cell_type": "code",
   "execution_count": 1,
   "metadata": {},
   "outputs": [],
   "source": [
    "import os\n",
    "import glob\n",
    "import numpy as np\n",
    "import scipy.io\n",
    "import scipy.special\n",
    "import warnings\n",
    "from datetime import datetime as dt\n",
    "from datetime import timedelta\n",
    "import matplotlib.pyplot as plt\n",
    "from matplotlib.pyplot import cm\n",
    "import h5py\n",
    "from netCDF4 import Dataset \n",
    "\n",
    "from ipywidgets import interact, interactive, fixed, interact_manual\n",
    "import ipywidgets as widgets\n",
    "import IPython.display\n",
    "from IPython.display import display, clear_output\n",
    "\n",
    "warnings.filterwarnings('ignore', category=DeprecationWarning) "
   ]
  },
  {
   "cell_type": "markdown",
   "metadata": {},
   "source": [
    "### Some initial track/date info - will need to be changed for NISAR cal/val"
   ]
  },
  {
   "cell_type": "code",
   "execution_count": 2,
   "metadata": {},
   "outputs": [],
   "source": [
    "tracks  = ['31604','31606']\n",
    "dates   = ['20120617','20120619','20120622','20120623','20120625','20120627','20120629','20120703','20120705','20120708','20120710','20120713','20120714','20120717']\n",
    "\n",
    "datetimes = [dt.strptime(date,'%Y%m%d').date() for date in dates]\n"
   ]
  },
  {
   "cell_type": "markdown",
   "metadata": {},
   "source": [
    "### Names of retrievals provided by Narendra Das. Used in plot labels.  "
   ]
  },
  {
   "cell_type": "code",
   "execution_count": 3,
   "metadata": {},
   "outputs": [],
   "source": [
    "mod1 = {'User':'Narendra','Modname':'',\n",
    "        'Pol':'HH',\n",
    "        'Path':'./Retrievals/'}\n",
    "mod2 = {'User':'Narendra','Modname':'',\n",
    "        'Pol':'VV',\n",
    "        'Path':'./Retrievals/'}\n",
    "mod3 = {'User':'Narendra','Modname':'',\n",
    "        'Pol':'HHVV',\n",
    "        'Path':'./Retrievals/'}\n",
    "\n",
    "models = {}\n",
    "for key in mod1.keys():\n",
    "    models.setdefault(key,[]).append(mod1[key])        \n",
    "    models.setdefault(key,[]).append(mod2[key])          \n",
    "    models.setdefault(key,[]).append(mod3[key]) \n",
    "\n",
    "nummods = len(models['User'])    \n",
    "\n",
    "for i in range(nummods):\n",
    "    models['Modname'][i]=models['User'][i]+models['Pol'][i]+'HV'\n",
    "  "
   ]
  },
  {
   "cell_type": "markdown",
   "metadata": {},
   "source": [
    "### Pre-sorted info on in situ observations during SMAPVEX12\n",
    "\n",
    "Original data was in several xls, csv files.  For now, merged into single hdf5 file, with fields of:\n",
    "\n",
    "site: id number\n",
    "\n",
    "insitu_mean: mean of in situ data for field for each date, with weighting as described in the SMAPVEX12 exercise documentation\n",
    "\n",
    "insitu_count: number of dates with in situ observations\n",
    "\n",
    "insitu_all: full set of in situ observations on each day (16 at most sites, 1 in forests) Only used in plotting to show spread of data"
   ]
  },
  {
   "cell_type": "code",
   "execution_count": 4,
   "metadata": {},
   "outputs": [],
   "source": [
    "insitu_filename = 'fields_insitu.h5'\n",
    "\n",
    "allfields     = h5py.File(insitu_filename, 'r')\n",
    "f             = list(allfields.keys())\n",
    "cropcodenames = {'Grassland':110,\n",
    "                 'Forage':122,\n",
    "                 'Oats':136,\n",
    "                 'Wheat':146,\n",
    "                 'Corn':147,\n",
    "                 'CanolaRapeseed':153,\n",
    "                 'Sunflowers':157,\n",
    "                 'Soybeans':158,\n",
    "                 'Broadleaf':220}\n",
    "cropnames=list(cropcodenames.keys())"
   ]
  },
  {
   "cell_type": "markdown",
   "metadata": {},
   "source": [
    "### Define the two main matrices where we will store all the data and metrics for each field, and for the crops as a whole."
   ]
  },
  {
   "cell_type": "code",
   "execution_count": 5,
   "metadata": {},
   "outputs": [],
   "source": [
    "fields = np.zeros(len(f), dtype = [('site', int),\n",
    "                                  ('insitu_mean', float , (len(dates),1)),\n",
    "                                  ('insitu_count', int),\n",
    "                                  ('insitu_all', float , (len(dates),16)),\n",
    "                                  ('EASEX',int,(16,1)),\n",
    "                                  ('EASEY',int,(16,1)),\n",
    "                                  ('EASEXc',int),\n",
    "                                  ('EASEYc',int),\n",
    "                                  ('crop',int),\n",
    "                                  ('retrievals',float,(nummods,len(tracks),len(dates))), #retrievals\n",
    "                                  ('ret_count',float,(nummods,len(tracks))),             #number of days with retrievals for each field/model/track\n",
    "                                  ('res',float,(nummods,len(tracks),len(dates))),        #retrievals-in situ\n",
    "                                  ('res_count',float,(nummods,len(tracks))),             #number of days with ret AND in situ for each field/model/track\n",
    "                                  ('res_rmse',float,(nummods,len(tracks))),              #overall rmse\n",
    "                                  ('res_bias',float,(nummods,len(tracks))),              #bias between retrievals and in situ\n",
    "                                  ('res_ubrmse',float,(nummods,len(tracks))),            #ub-rmse\n",
    "                                  ('res_stddev',float,(nummods,len(tracks))),            #std dev of residual\n",
    "                                  ('res_stddev_stddev',float,(nummods,len(tracks)))])    #std dev of std dev of residual\n",
    "\n",
    "\n",
    "crops = np.zeros(len(cropnames), dtype = [('cropcode',int),\n",
    "                                          ('fields',bool,(len(f),1)),\n",
    "                                          ('numfields',int),\n",
    "                                          ('rmse',float,(nummods,len(tracks))),\n",
    "                                          ('rmse_std',float,(nummods,len(tracks))),\n",
    "                                          ('ubrmse',float,(nummods,len(tracks))),\n",
    "                                          ('ubrmse_std',float,(nummods,len(tracks))),\n",
    "                                          ('stddev_uw',float,(nummods,len(tracks))),\n",
    "                                          ('stddev_wgt',float,(nummods,len(tracks))),\n",
    "                                          ('stddev_stddev_uw',float,(nummods,len(tracks))),\n",
    "                                          ('stddev_stddev_wgt',float,(nummods,len(tracks)))])\n",
    "                              \n",
    "### Sort the values from our initial allfields hdf5 import into the \"fields\" ndarray\n",
    "sites=np.empty(len(f))\n",
    "for i in range(len(f)):\n",
    "    siteval=allfields[f[i]]['site'][:]\n",
    "    sites[i]=siteval[0]\n",
    "    \n",
    "    for dset in allfields[f[i]].keys():      \n",
    "        arr = allfields[f[i]][dset][:] # adding [:] returns a numpy array\n",
    "        fields[i][dset] = arr\n",
    "     \n",
    "sortsiteid=np.argsort(sites)\n",
    "fields = fields[sortsiteid]\n",
    "\n",
    "### Make list containing crop names for each field, for use in plotting/pulldown menus.\n",
    "fieldcrops = list()\n",
    "for i in range(len(f)):\n",
    "    if fields[i]['crop'] > 0:\n",
    "        fieldcrops.append(list(cropcodenames.keys())[list(cropcodenames.values()).index(fields[i]['crop'])])\n",
    "    else:\n",
    "        fieldcrops.append('Unknown')\n",
    "        "
   ]
  },
  {
   "cell_type": "markdown",
   "metadata": {},
   "source": [
    "### For each retrieval type, pull out the correct values for each field and store them.  Here we are doing it by model, track, and date, so a 3D array for each field."
   ]
  },
  {
   "cell_type": "code",
   "execution_count": 6,
   "metadata": {},
   "outputs": [],
   "source": [
    "for k in range(nummods):\n",
    "    for j in range(len(tracks)):\n",
    "        nc_f   = models['Path'][k]+'SMAPVEX12_SM200m_UAVSAR_L'  + tracks[j]+ '_' + models['Pol'][k].lower() +'_hv.nc'\n",
    "        nc_fid = Dataset(nc_f, 'r') \n",
    "        dvars  = list(nc_fid.variables)\n",
    "        grow   = nc_fid.variables['EASE2_row200m'][:]\n",
    "        gcol   = nc_fid.variables['EASE2_col200m'][:]\n",
    "      \n",
    "        id=np.empty(len(f),dtype='int')\n",
    "        jd=np.empty(len(f),dtype='int')\n",
    "        for i in range(len(fields)):\n",
    "            id[i]     = np.argwhere(gcol==fields[i]['EASEXc'])[0][0]\n",
    "            jd[i]     = np.argwhere(grow==fields[i]['EASEYc'])[0][0]\n",
    "\n",
    "        for i in range(len(dates)):\n",
    "            tmpname='SM200m_'+dates[i]\n",
    "            found = dvars.count(tmpname)\n",
    "            if found > 0:\n",
    "                data=nc_fid.variables[tmpname][:]\n",
    "                data[data<=0] = np.nan\n",
    "        \n",
    "                for h in range(0,len(f)):\n",
    "                    ret=data[id[h],jd[h]]\n",
    "                    fields[h]['retrievals'][k,j,i]=ret\n",
    "            \n",
    "            else:\n",
    "                for h in range(0,len(fields)):        \n",
    "                    fields[h]['retrievals'][k,j,i]=np.nan\n",
    "        \n",
    "        nc_fid.close()"
   ]
  },
  {
   "cell_type": "markdown",
   "metadata": {},
   "source": [
    "### Calculate residual between retrievals and in situ data, bias, ubrmse, rmse and the std. deviation of the residual.  \n",
    "\n",
    "Estimate the std. dev of the std. dev as well, for weighting of individual fields later on. References:         \n",
    "\n",
    "CR Rao (1973) Linear Statistical Inference and its Applications 2nd Ed, John Wiley & Sons, NY\n",
    "\n",
    "https://stats.stackexchange.com/questions/11707/why-is-sample-standard-deviation-a-biased-estimator-of-sigma"
   ]
  },
  {
   "cell_type": "code",
   "execution_count": 7,
   "metadata": {},
   "outputs": [],
   "source": [
    "for i in range(len(fields)):\n",
    "    for j in range(nummods):\n",
    "        for k in range(len(tracks)):\n",
    "            rets       = np.reshape(fields[i]['retrievals'][j,k,:],(len(dates),1))\n",
    "            dat        = fields[i]['insitu_mean'][:]\n",
    "            res        = rets-fields[i]['insitu_mean'][:]\n",
    "            ret_count  = sum(np.isfinite(rets))\n",
    "            res_count  = sum(np.isfinite(res))\n",
    "\n",
    "            if res_count>1:\n",
    "                bias       = np.nanmean(res)\n",
    "                ubres      = res-bias\n",
    "\n",
    "                res_rmse   = np.sqrt(np.nansum(np.square(res))/res_count)\n",
    "                res_ubrmse = np.sqrt(np.nansum(np.square(ubres))/res_count)\n",
    "\n",
    "                if res_count>1:\n",
    "                    g1                = scipy.special.gamma((res_count-1)/2)\n",
    "                    g2                = scipy.special.gamma(res_count/2)\n",
    "                    res_stddev        = np.sqrt(np.nansum(np.square(ubres))/(res_count-1)) \n",
    "                    res_stddev_stddev = res_stddev*g1/g2*np.sqrt((res_count-1)/2-np.square(g2/g1))\n",
    "                else:\n",
    "                    res_stddev        = np.nan\n",
    "                    res_stddev_stddev = np.nan\n",
    "            else:\n",
    "                bias                  = np.nan\n",
    "                res_rmse              = np.nan\n",
    "                res_ubrmse            = np.nan\n",
    "                res_stddev            = np.nan\n",
    "                res_stddev_stddev     = np.nan\n",
    "                    \n",
    "            fields[i]['ret_count'][j,k]         = ret_count\n",
    "            fields[i]['res'][j,k,:]             = np.reshape(res,(len(dates),))\n",
    "            fields[i]['res_count'][j,k]         = res_count\n",
    "            fields[i]['res_bias'][j,k]          = bias\n",
    "            fields[i]['res_rmse'][j,k]          = res_rmse\n",
    "            fields[i]['res_ubrmse'][j,k]        = res_ubrmse\n",
    "            fields[i]['res_stddev'][j,k]        = res_stddev\n",
    "            fields[i]['res_stddev_stddev'][j,k] = res_stddev_stddev\n"
   ]
  },
  {
   "cell_type": "markdown",
   "metadata": {},
   "source": [
    "### For each crop type, evaluate the mean of the various metrics, and our uncertainty on those metrics, when possible."
   ]
  },
  {
   "cell_type": "code",
   "execution_count": 8,
   "metadata": {},
   "outputs": [],
   "source": [
    "for i in range(len(crops)):  \n",
    "    code                  = cropcodenames[cropnames[i]]\n",
    "    fieldid               = np.argwhere(fields['crop']==code)\n",
    "    fieldidb              = np.reshape(fields['crop']==code,(len(f),1))\n",
    "    nfields               = len(fieldid)\n",
    "    crops[i]['cropcode']  = cropcodenames[cropnames[i]]\n",
    "    crops[i]['numfields'] = nfields\n",
    "    crops[i]['fields']    = fieldidb\n",
    "    for j in range(nummods):\n",
    "\n",
    "        for k in range(len(tracks)):            \n",
    "            rmse          = np.empty((nfields,1))\n",
    "            ubrmse        = np.empty((nfields,1))\n",
    "            stddev        = np.empty((nfields,1))\n",
    "            stddev_stddev = np.empty((nfields,1))\n",
    "           \n",
    "            for l in range(nfields):\n",
    "                id = fieldid[l][0]\n",
    "                rmse[l]          = fields[id]['res_rmse'][j,k]\n",
    "                ubrmse[l]        = fields[id]['res_ubrmse'][j,k]\n",
    "                stddev[l]        = fields[id]['res_stddev'][j,k]\n",
    "                stddev_stddev[l] = fields[id]['res_stddev_stddev'][j,k]\n",
    "            \n",
    "            goodfields           = np.sum(np.isfinite(rmse))     \n",
    "            if goodfields > 0:\n",
    "                wgts             = 1. / np.square(stddev_stddev)\n",
    "                V1               = np.nansum(wgts)\n",
    "                V2               = np.nansum(np.square(wgts))\n",
    "\n",
    "                crops[i]['rmse'][j,k]                  = np.nanmean(rmse)\n",
    "                crops[i]['ubrmse'][j,k]                = np.nanmean(ubrmse)\n",
    "                crops[i]['stddev_uw'][j,k]             = np.nanmean(stddev)\n",
    "                crops[i]['stddev_wgt'][j,k]            = np.nansum(stddev*wgts)/V1\n",
    "                \n",
    "                if (V1-(V2/V1)) > 0:\n",
    "                    crops[i]['stddev_stddev_wgt'][j,k] = np.sqrt(np.nansum(wgts*np.square(stddev-np.nanmean(stddev)))/(V1-(V2/V1)));\n",
    "                else:\n",
    "                    crops[i]['stddev_stddev_wgt'][j,k] = np.nan\n",
    "            else:\n",
    "                crops[i]['rmse'][j,k]                  = np.nan\n",
    "                crops[i]['ubrmse'][j,k]                = np.nan\n",
    "                crops[i]['stddev_uw'][j,k]             = np.nan\n",
    "                crops[i]['stddev_wgt'][j,k]            = np.nan\n",
    "            \n",
    "            \n",
    "            if goodfields > 1:\n",
    "                crops[i]['rmse_std'][j,k]              = np.nanstd(rmse,ddof=1)\n",
    "                crops[i]['ubrmse_std'][j,k]            = np.nanstd(ubrmse,ddof=1)\n",
    "                crops[i]['stddev_stddev_uw'][j,k]      = np.nanstd(stddev,ddof=1)\n",
    "\n",
    "            else:\n",
    "                crops[i]['rmse_std'][j,k]              = np.nan\n",
    "                crops[i]['ubrmse_std'][j,k]            = np.nan\n",
    "                crops[i]['stddev_stddev_uw'][j,k]      = np.nan\n"
   ]
  },
  {
   "cell_type": "markdown",
   "metadata": {},
   "source": [
    "# Plotting\n",
    "\n",
    "### Below, we define several plotting functions, and include a single example that drives each of them below each set of code.  At the end of the notebook, are tabs with all of the plotting types in one spot.  "
   ]
  },
  {
   "cell_type": "code",
   "execution_count": 9,
   "metadata": {},
   "outputs": [],
   "source": [
    "def plot_onefield(fieldnum,correctionType):\n",
    "    insitu_mean = fields[fieldnum]['insitu_mean']\n",
    "    insitu_all  = fields[fieldnum]['insitu_all']\n",
    "\n",
    "    fig = plt.figure(figsize=(14,5))\n",
    "    ax  = fig.subplots(1)\n",
    "    markers=['o','d']\n",
    "\n",
    "    for i in range(len(tracks)):\n",
    "        for j in range(nummods):\n",
    "            if fields[fieldnum]['res_count'][j,i] > 0:\n",
    "                ret        = np.reshape(fields[fieldnum]['retrievals'][j,i,:],(len(dates),1))\n",
    "                if correctionType == 'unbiased':\n",
    "                    diff       = ret-insitu_mean\n",
    "                    ret        = ret-np.nanmean(diff,0)                   \n",
    "                elif correctionType == 'residual':\n",
    "                    ret        = ret-insitu_mean\n",
    "                elif correctionType == 'unbiased residual':\n",
    "                    diff       = ret-insitu_mean\n",
    "                    ret        = ret-np.nanmean(diff,0)-insitu_mean\n",
    "                            \n",
    "                plt.plot(datetimes,ret,':',marker=markers[i],markersize=10,label=models['Modname'][j]+str(tracks[i]))\n",
    "\n",
    "\n",
    "    if correctionType == 'residual':\n",
    "        insitu_all  =insitu_all-insitu_mean\n",
    "        insitu_mean = 0*insitu_mean\n",
    "    elif correctionType == 'unbiased residual':\n",
    "        insitu_all  =insitu_all-insitu_mean\n",
    "        insitu_mean = 0*insitu_mean\n",
    "\n",
    "    plt.plot(datetimes,insitu_mean,'ko',markersize=18,markerfacecolor='w',label='Mean insitu')\n",
    "    plt.plot(datetimes,insitu_all,'k.')\n",
    "    plt.plot(datetimes,insitu_all[:,0],'k.',label='All insitu')#plot one row for label\n",
    "\n",
    "    plt.title('Field'+str(fields[fieldnum]['site'])+' '+fieldcrops[fieldnum])\n",
    "    ax.set_ylabel('Volumetric Soil Moisture')\n",
    "    ax.grid()\n",
    "    ax.set_xticks(datetimes[0::2])\n",
    "    ax.legend()\n",
    "\n",
    "    plt.xlim(datetimes[0]+timedelta(-1),datetimes[-1]+timedelta(1))\n",
    "    plt.show()"
   ]
  },
  {
   "cell_type": "code",
   "execution_count": 10,
   "metadata": {},
   "outputs": [
    {
     "data": {
      "application/vnd.jupyter.widget-view+json": {
       "model_id": "86338352021e4af3990369e16cac6fb5",
       "version_major": 2,
       "version_minor": 0
      },
      "text/plain": [
       "VBox(children=(HBox(children=(Dropdown(description='Field:', options=('11:Corn', '12:Sunflowers', '13:Grasslan…"
      ]
     },
     "metadata": {},
     "output_type": "display_data"
    }
   ],
   "source": [
    "fval1=[]\n",
    "for i in range(len(fields)):\n",
    "    fval1.append(str(fields[i]['site'])+':'+fieldcrops[i])\n",
    "\n",
    "pulldownfield1=widgets.Dropdown(description='Field:',options=fval1)\n",
    "pulldownplot1=widgets.Dropdown(description='Plottype:',options=['raw','unbiased','residual','unbiased residual'])\n",
    "\n",
    "button1 = widgets.Button(description='Plot')\n",
    "out1 = widgets.Output()\n",
    "def button1_clicked(_):\n",
    "      with out1:\n",
    "          clear_output()\n",
    "          plot_onefield(pulldownfield1.index,pulldownplot1.value)\n",
    "\n",
    "button1.on_click(button1_clicked)\n",
    "widgets.VBox([widgets.HBox([pulldownfield1,pulldownplot1,button1]),out1])\n"
   ]
  },
  {
   "cell_type": "code",
   "execution_count": 11,
   "metadata": {},
   "outputs": [],
   "source": [
    "def plot_onecrop_byfield(cropnum,modnum,tracknum):\n",
    "    goodfields=np.argwhere(crops[cropnum]['fields'])[:,0]\n",
    "\n",
    "    fig = plt.figure(figsize=(14,5))\n",
    "    ax  = fig.subplots(1)\n",
    "    ax.grid('on')\n",
    "    x   = np.arange(1,len(goodfields)+1)\n",
    "    fieldlabels=[]\n",
    "    for i in range(len(goodfields)):\n",
    "        ax.errorbar(x[i],fields[goodfields[i]]['res_stddev'][modnum,tracknum], yerr=fields[goodfields[i]]['res_stddev_stddev'][modnum,tracknum], xerr=None,fmt='.',color='r',ecolor='r',capsize=10,markersize=18)\n",
    "        ax.plot(x[i],fields[goodfields[i]]['res_ubrmse'][modnum,tracknum],'go') \n",
    "        fieldlabels.append('F'+str(fields[goodfields[i]]['site'])+' : '+str(np.int32(fields[goodfields[i]]['res_count'][modnum,tracknum])))\n",
    "\n",
    "    #plot again for labels\n",
    "    ax.errorbar(x[i],fields[goodfields[i]]['res_stddev'][modnum,tracknum], yerr=fields[goodfields[i]]['res_stddev_stddev'][modnum,tracknum], xerr=None,fmt='.',color='r',ecolor='r',capsize=10,markersize=18,label=r'$\\sigma$')\n",
    "\n",
    "    ax.hlines(crops[cropnum]['stddev_uw'][modnum,tracknum],0,len(goodfields)+0.5,colors='b')\n",
    "    ax.hlines(crops[cropnum]['stddev_wgt'][modnum,tracknum],0,len(goodfields)+0.5,colors='k')\n",
    "    ax.hlines(crops[cropnum]['ubrmse'][modnum,tracknum],0,len(goodfields)+0.5,colors='g')\n",
    "    ax.errorbar(0.3,crops[cropnum]['stddev_uw'][modnum,tracknum],yerr=crops[cropnum]['stddev_stddev_uw'][modnum,tracknum],fmt='bo',label=r'tot $\\sigma$ unwgt')\n",
    "    ax.errorbar(0.5,crops[cropnum]['stddev_wgt'][modnum,tracknum],yerr=crops[cropnum]['stddev_stddev_wgt'][modnum,tracknum],fmt='ko',label=r'tot $\\sigma$ wgt')\n",
    "    ax.errorbar(0.7,crops[cropnum]['ubrmse'][modnum,tracknum],yerr=crops[cropnum]['ubrmse_std'][modnum,tracknum],fmt='go',label=r'tot $\\sigma$ UBRMSE')\n",
    "    plt.xlim(0,len(goodfields)+0.5)\n",
    "    ax.set_xticks(x)\n",
    "    ax.set_xticklabels(fieldlabels)\n",
    "    ax.set_xlabel('Field# : #obs')\n",
    "    ax.set_ylabel('Error')\n",
    "    ax.legend()\n",
    "    plt.title(cropnames[cropnum]+' T'+str(tracks[tracknum])+', '+models['Modname'][modnum])\n",
    "    plt.show()"
   ]
  },
  {
   "cell_type": "code",
   "execution_count": 12,
   "metadata": {},
   "outputs": [
    {
     "data": {
      "application/vnd.jupyter.widget-view+json": {
       "model_id": "6e436cd3688949dca92fb97e4672f746",
       "version_major": 2,
       "version_minor": 0
      },
      "text/plain": [
       "VBox(children=(Button(description='Plot', style=ButtonStyle()), HBox(children=(Dropdown(description='Crop:', o…"
      ]
     },
     "metadata": {},
     "output_type": "display_data"
    }
   ],
   "source": [
    "fval2=[]\n",
    "for i in range(len(crops)):\n",
    "    fval2.append(cropnames[i]+':'+str(crops[i]['numfields']) + ' fields')\n",
    "\n",
    "pulldowncrop2  = widgets.Dropdown(description='Crop:',options=fval2)\n",
    "pulldownmod2   = widgets.Dropdown(description='Model:',options=models['Modname'])\n",
    "pulldowntrack2 = widgets.Dropdown(description='Track:',options=tracks)\n",
    "\n",
    "button2 = widgets.Button(description='Plot')\n",
    "out2 = widgets.Output()\n",
    "def button2_clicked(_):\n",
    "      with out2:\n",
    "          clear_output()\n",
    "          plot_onecrop_byfield(pulldowncrop2.index,pulldownmod2.index,pulldowntrack2.index)\n",
    "\n",
    "button2.on_click(button2_clicked)\n",
    "widgets.VBox([button2,widgets.HBox([pulldowncrop2,pulldownmod2,pulldowntrack2]),out2])"
   ]
  },
  {
   "cell_type": "code",
   "execution_count": 13,
   "metadata": {},
   "outputs": [],
   "source": [
    "def plot_onecrop(cropnum,correctionType):\n",
    "    tb1=(-0.15,0.15) #shifts for each track in plotting bars\n",
    "    tb2=(-0.2,0.2) #shifts for each track in plotting points\n",
    "\n",
    "    color=cm.rainbow(np.linspace(0,1,len(tracks)))\n",
    "\n",
    "    fig = plt.figure(figsize=(14,5))\n",
    "    ax  = fig.subplots(1)\n",
    "    ax.grid('on')\n",
    "    x   = np.arange(1,nummods+1)\n",
    "    \n",
    "    ax.plot([0.5,nummods+1],[0.06,0.06],'k',label='6%')\n",
    "    if correctionType == 'Weighted':\n",
    "        for i in range(len(tracks)):\n",
    "            ax.bar(x+tb1[i],crops[cropnum]['stddev_wgt'][:,i],width=0.25,color=color[i],label=r'$\\sigma_{wgt}$ '+str(tracks[i]))\n",
    "            ax.errorbar(x+tb1[i], crops[cropnum]['stddev_wgt'][:,i], yerr=crops[cropnum]['stddev_stddev_wgt'][:,i], xerr=None,fmt='none',ecolor='k',capsize=10)\n",
    "            ax.errorbar(x+tb2[i],crops[cropnum]['rmse'][:,i], yerr=crops[cropnum]['rmse_std'][:,i], xerr=None,fmt='.',color=color[i],ecolor='k',capsize=10,markersize=18,label='RMSE '+str(tracks[i]))\n",
    "            plt.title(cropnames[cropnum]+', '+str(crops[cropnum]['numfields'])+' fields, wgt error')\n",
    "    elif correctionType == 'Unweighted':\n",
    "        for i in range(len(tracks)):\n",
    "            ax.bar(x+tb1[i],crops[cropnum]['stddev_uw'][:,i],width=0.25,color=color[i],label=r'$\\sigma_{unwgt}$ '+str(tracks[i]))\n",
    "            ax.errorbar(x+tb1[i], crops[cropnum]['stddev_uw'][:,i], yerr=crops[cropnum]['stddev_stddev_uw'][:,i], xerr=None,fmt='none',ecolor='k',capsize=10)\n",
    "            ax.errorbar(x+tb2[i],crops[cropnum]['rmse'][:,i], yerr=crops[cropnum]['rmse_std'][:,i], xerr=None,fmt='.',color=color[i],ecolor='k',capsize=10,markersize=18,label='RMSE '+str(tracks[i]))\n",
    "            plt.title(cropnames[cropnum]+', '+str(crops[cropnum]['numfields'])+' fields, unwgt error')\n",
    "    elif correctionType == 'UBRMSE':\n",
    "        for i in range(len(tracks)):\n",
    "            ax.bar(x+tb1[i],crops[cropnum]['ubrmse'][:,i],width=0.25,color=color[i],label='UBRMSE '+str(tracks[i]))\n",
    "            ax.errorbar(x+tb1[i], crops[cropnum]['ubrmse'][:,i], yerr=crops[cropnum]['ubrmse_std'][:,i], xerr=None,fmt='none',ecolor='k',capsize=10)\n",
    "            ax.errorbar(x+tb2[i],crops[cropnum]['rmse'][:,i], yerr=crops[cropnum]['rmse_std'][:,i], xerr=None,fmt='.',color=color[i],ecolor='k',capsize=10,markersize=18,label='RMSE '+str(tracks[i]))\n",
    "            plt.title(cropnames[cropnum]+', '+str(crops[cropnum]['numfields'])+' fields, UBRMSE')\n",
    "\n",
    "    plt.xlim(0.5,nummods+1)\n",
    "    ax.set_xticks(x)\n",
    "    ax.set_xticklabels(models['Modname'])\n",
    "    ax.set_xlabel('Model')\n",
    "    ax.set_ylabel('Error')\n",
    "    ax.legend()\n",
    "    plt.show()\n",
    "   "
   ]
  },
  {
   "cell_type": "code",
   "execution_count": 14,
   "metadata": {},
   "outputs": [
    {
     "data": {
      "application/vnd.jupyter.widget-view+json": {
       "model_id": "293fc62f79f24e469bf287d2fe728ed2",
       "version_major": 2,
       "version_minor": 0
      },
      "text/plain": [
       "VBox(children=(HBox(children=(Dropdown(description='Crop:', options=('Grassland:2 fields', 'Forage:3 fields', …"
      ]
     },
     "metadata": {},
     "output_type": "display_data"
    }
   ],
   "source": [
    "pulldowncrop3=widgets.Dropdown(description='Crop:',options=fval2)\n",
    "pulldownplot3=widgets.Dropdown(description='Plottype:',options=['Weighted','Unweighted','UBRMSE'])\n",
    "\n",
    "button3 = widgets.Button(description='Plot')\n",
    "out3 = widgets.Output()\n",
    "def button3_clicked(_):\n",
    "      with out3:\n",
    "          clear_output()\n",
    "          plot_onecrop(pulldowncrop3.index,pulldownplot3.value)\n",
    "\n",
    "button3.on_click(button3_clicked)\n",
    "widgets.VBox([widgets.HBox([pulldowncrop3,pulldownplot3,button3]),out3])"
   ]
  },
  {
   "cell_type": "code",
   "execution_count": 15,
   "metadata": {},
   "outputs": [],
   "source": [
    "def plot_allcrops(type):\n",
    "    thresh=0.06;\n",
    "    mytitle=type;\n",
    "    all=np.empty((len(crops),nummods))\n",
    "    if type == 'RMSE':\n",
    "        for i in range(len(crops)):\n",
    "            for j in range(nummods):\n",
    "                all[i,j]=np.nanmean(crops[i]['rmse'][j,:])\n",
    "    elif type == 'UBRMSE':\n",
    "        for i in range(len(crops)):\n",
    "            for j in range(nummods):\n",
    "                all[i,j]=np.nanmean(crops[i]['ubrmse'][j,:])\n",
    "    elif type == 'std dev, weighted':\n",
    "        mytitle = r'$\\sigma$, weighted'\n",
    "        for i in range(len(crops)):\n",
    "            for j in range(nummods):\n",
    "                all[i,j]=np.nanmean(crops[i]['stddev_wgt'][j,:])\n",
    "    elif type == 'std dev, unweighted':\n",
    "        mytitle = r'$\\sigma$, unweighted'\n",
    "        for i in range(len(crops)):\n",
    "            for j in range(nummods):\n",
    "                all[i,j]=np.nanmean(crops[i]['stddev_uw'][j,:])\n",
    "\n",
    "    id  = np.where(all<=thresh)\n",
    "    fig = plt.figure(figsize=(14,5))\n",
    "    ax  = fig.subplots(1)\n",
    "    p   = ax.imshow(all,aspect='auto',vmin=0,vmax=0.1)\n",
    "    if type == 'RMSE':\n",
    "        p   = ax.imshow(all,aspect='auto',vmin=0,vmax=0.2)\n",
    "    else:\n",
    "        p   = ax.imshow(all,aspect='auto',vmin=0,vmax=0.1)\n",
    " \n",
    "    ax.plot(id[1],id[0],'wo')\n",
    "    ax.set_xticks(range(nummods))\n",
    "    ax.set_xticklabels(models['Modname'])\n",
    "    ax.set_xlabel('Model')\n",
    "    ax.set_yticks(range(len(crops)))\n",
    "    ax.set_yticklabels(cropnames)\n",
    "    cbar=plt.colorbar(p)\n",
    "    cbar.set_label('Error', rotation=270)\n",
    "    plt.title(mytitle)\n",
    "    plt.show()  "
   ]
  },
  {
   "cell_type": "code",
   "execution_count": 16,
   "metadata": {},
   "outputs": [
    {
     "data": {
      "application/vnd.jupyter.widget-view+json": {
       "model_id": "f727b6d0ca9e47f698048819761b21ef",
       "version_major": 2,
       "version_minor": 0
      },
      "text/plain": [
       "VBox(children=(HBox(children=(Dropdown(description='Plottype:', options=('RMSE', 'UBRMSE', 'std dev, weighted'…"
      ]
     },
     "metadata": {},
     "output_type": "display_data"
    }
   ],
   "source": [
    "fval4=[]\n",
    "for i in range(len(crops)):\n",
    "    fval4.append(cropnames[i]+':'+str(crops[i]['numfields']) + ' fields')\n",
    "\n",
    "pulldownplot4=widgets.Dropdown(description='Plottype:',options=['RMSE','UBRMSE','std dev, weighted','std dev, unweighted'])\n",
    "\n",
    "button4 = widgets.Button(description='Plot')\n",
    "out4 = widgets.Output()\n",
    "def button4_clicked(_):\n",
    "      with out4:\n",
    "          clear_output()\n",
    "          plot_allcrops(pulldownplot4.value)\n",
    "\n",
    "button4.on_click(button4_clicked)\n",
    "\n",
    "widgets.VBox([widgets.HBox([pulldownplot4,button4]),out4])"
   ]
  },
  {
   "cell_type": "code",
   "execution_count": 17,
   "metadata": {},
   "outputs": [
    {
     "data": {
      "application/vnd.jupyter.widget-view+json": {
       "model_id": "8e5d43fb5c554ce08e751e5f015ab115",
       "version_major": 2,
       "version_minor": 0
      },
      "text/plain": [
       "Tab(children=(VBox(children=(HBox(children=(Dropdown(description='Field:', options=('11:Corn', '12:Sunflowers'…"
      ]
     },
     "metadata": {},
     "output_type": "display_data"
    }
   ],
   "source": [
    "# Put all plots into tabs\n",
    "tab = widgets.Tab()\n",
    "tab.children = [widgets.VBox([widgets.HBox([pulldownfield1,pulldownplot1,button1]),out1]), \n",
    "                widgets.VBox([button2,widgets.HBox([pulldowncrop2,pulldownmod2,pulldowntrack2]),out2]),\n",
    "                widgets.VBox([widgets.HBox([pulldowncrop3,pulldownplot3,button3]),out3]),\n",
    "                widgets.VBox([widgets.HBox([pulldownplot4,button4]),out4])]\n",
    "tab.set_title(0, 'Plot one field')\n",
    "tab.set_title(1, 'Plot one crop, by field')\n",
    "tab.set_title(2, 'Plot one crop')\n",
    "tab.set_title(3, 'Plot all crops')\n",
    "tab"
   ]
  }
 ],
 "metadata": {
  "kernelspec": {
   "display_name": "Python 3 (ipykernel)",
   "language": "python",
   "name": "python3"
  },
  "language_info": {
   "codemirror_mode": {
    "name": "ipython",
    "version": 3
   },
   "file_extension": ".py",
   "mimetype": "text/x-python",
   "name": "python",
   "nbconvert_exporter": "python",
   "pygments_lexer": "ipython3",
   "version": "3.7.0"
  }
 },
 "nbformat": 4,
 "nbformat_minor": 4
}
